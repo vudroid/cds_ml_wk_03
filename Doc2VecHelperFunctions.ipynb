{
 "cells": [
  {
   "cell_type": "markdown",
   "metadata": {},
   "source": [
    "# Doc2Vec Helper Function Class\n",
    "\n",
    "This notebook contains the following classes/methods that support a Doc2Vec implementation:\n",
    "* A TaggedLineDocument class which allows the reading of multiple txt files\n",
    "* convert_lyrics_to_d2v which takes in an iterable of song lyrics and busts out a .d2v model"
   ]
  },
  {
   "cell_type": "code",
   "execution_count": 7,
   "metadata": {},
   "outputs": [],
   "source": [
    "# gensim modules\n",
    "from gensim import utils\n",
    "from gensim.models.doc2vec import TaggedDocument\n",
    "from gensim.models import Doc2Vec\n",
    "from random import shuffle"
   ]
  },
  {
   "cell_type": "code",
   "execution_count": 2,
   "metadata": {},
   "outputs": [],
   "source": [
    "# Custom TaggedLineDocument Class to allow handling of multiple TaggedLineDocument objects\n",
    "# =====================================================================================================================\n",
    "class TaggedLineDocument(object):\n",
    "    def __init__(self, sources):\n",
    "        self.sources = sources\n",
    "\n",
    "        flipped = {}\n",
    "\n",
    "        # make sure that keys are unique\n",
    "        for key, value in sources.items():\n",
    "            if value not in flipped:\n",
    "                flipped[value] = [key]\n",
    "            else:\n",
    "                raise Exception('Non-unique prefix encountered')\n",
    "\n",
    "    def __iter__(self):\n",
    "        for source, prefix in self.sources.items():\n",
    "            with utils.smart_open(source) as fin:\n",
    "                for item_no, line in enumerate(fin):\n",
    "                    yield TaggedDocument(utils.to_unicode(line).split(), [prefix + '_%s' % item_no])\n",
    "\n",
    "    def to_array(self):\n",
    "        self.sentences = []\n",
    "        for source, prefix in self.sources.items():\n",
    "            with utils.smart_open(source) as fin:\n",
    "                for item_no, line in enumerate(fin):\n",
    "                    self.sentences.append(TaggedDocument(utils.to_unicode(line).split(), [prefix + '_%s' % item_no]))\n",
    "        return self.sentences\n",
    "\n",
    "    def sentences_perm(self):\n",
    "        shuffle(self.sentences)\n",
    "        return self.sentences\n",
    "\n",
    "# OK, let's make a Doc2Vec function that will take in all the lyrics & spit out a d2v model that you can use.\n",
    "def convert_lyrics_to_d2v(allLyricsList, model_min_count=1, model_window=10, model_vector_size=100, model_sample=1e-4, model_negative=5, model_workers=7, model_epoch_range=10):\n",
    "    \"\"\"\n",
    "    Function that takes in an iterable (egs: list) of song lyrics, where each element is a single string.\n",
    "    Returns a Doc2Vec model (song_lyrics.d2v)\n",
    "    Parameters\n",
    "    ----------\n",
    "    first : allLyricsList\n",
    "        An iterable (egs: list) of all song lyrics, where each element is a single string representing lyrics of one song.\n",
    "    For an explanation of the remaining parameters, see the documentation at:\n",
    "    https://radimrehurek.com/gensim/models/doc2vec.html#gensim.models.doc2vec.Doc2Vec\n",
    "\n",
    "    Returns\n",
    "    -------\n",
    "    .d2v\n",
    "        Doc2Vec model\n",
    "    \"\"\"\n",
    "    \n",
    "    master_txt = open('all_song_lyrics.txt', 'w') \n",
    "    \n",
    "    for song_lyrics in allLyricsList:\n",
    "        master_txt.write(song_lyrics)\n",
    "        master_txt.write('\\n')\n",
    "    \n",
    "    master_txt.close()\n",
    "\n",
    "    sources = {'all_song_lyrics.txt':'SONG_NUMBER'}\n",
    "    sentences = TaggedLineDocument(sources)\n",
    "\n",
    "    model = Doc2Vec(model_min_count=1, model_window=10, model_vector_size=100, model_sample=1e-4, model_negative=5, model_workers=7)\n",
    "\n",
    "    model.build_vocab(sentences.to_array())\n",
    "\n",
    "    for epoch in range(model_epoch_range):\n",
    "        model.train(sentences.sentences_perm(), total_examples=model.corpus_count, epochs=model.epochs)\n",
    "\n",
    "    model.save('./song_lyrics.d2v')"
   ]
  },
  {
   "cell_type": "markdown",
   "metadata": {},
   "source": [
    "---"
   ]
  }
 ],
 "metadata": {
  "kernelspec": {
   "display_name": "Python 3",
   "language": "python",
   "name": "python3"
  },
  "language_info": {
   "codemirror_mode": {
    "name": "ipython",
    "version": 3
   },
   "file_extension": ".py",
   "mimetype": "text/x-python",
   "name": "python",
   "nbconvert_exporter": "python",
   "pygments_lexer": "ipython3",
   "version": "3.6.4"
  }
 },
 "nbformat": 4,
 "nbformat_minor": 2
}
